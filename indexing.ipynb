{
 "cells": [
  {
   "cell_type": "code",
   "execution_count": 122,
   "metadata": {},
   "outputs": [
    {
     "name": "stdout",
     "output_type": "stream",
     "text": [
      "bharvi\n",
      "shubham\n",
      "rajan\n"
     ]
    }
   ],
   "source": [
    "list=[\"shivam\", \"areeba\", \"akash\", \"bharvi\",\"mubassir\", \"arpit\", \"shubham\", \"manoj\",\"rajan\"]\n",
    "print(list[3])\n",
    "print(list[6])\n",
    "print(list[8])"
   ]
  },
  {
   "cell_type": "code",
   "execution_count": 123,
   "metadata": {},
   "outputs": [
    {
     "name": "stdout",
     "output_type": "stream",
     "text": [
      "shubham\n",
      "manoj\n",
      "rajan\n"
     ]
    }
   ],
   "source": [
    "list=[\"shivam\", \"areeba\", \"akash\", \"bharvi\",\"mubassir\", \"arpit\", \"shubham\", \"manoj\",\"rajan\"]\n",
    "print(list[-3])\n",
    "print(list[-2])\n",
    "print(list[-1])"
   ]
  },
  {
   "cell_type": "code",
   "execution_count": 124,
   "metadata": {},
   "outputs": [
    {
     "name": "stdout",
     "output_type": "stream",
     "text": [
      "['o', 'g', 'r']\n",
      "['a', 'm', 'i', 'z']\n",
      "['p', 'r', 'o', 'g', 'r', 'a', 'm', 'i', 'z']\n",
      "['r', 'g', 'a', 'i']\n",
      "['z']\n"
     ]
    }
   ],
   "source": [
    "my_list=['p','r','o','g','r','a','m','i','z']\n",
    "print(my_list[2:5])\n",
    "print(my_list[5:])\n",
    "print(my_list[:])\n",
    "print(my_list[1:9:2])\n",
    "print(my_list[-1:])"
   ]
  },
  {
   "cell_type": "code",
   "execution_count": 125,
   "metadata": {},
   "outputs": [
    {
     "name": "stdout",
     "output_type": "stream",
     "text": [
      "5\n"
     ]
    }
   ],
   "source": [
    "list=[\"amir\",\"salman\",\"akashy\",\"varun\",\"tiger\"]\n",
    "print(len(list))"
   ]
  },
  {
   "cell_type": "code",
   "execution_count": 126,
   "metadata": {},
   "outputs": [
    {
     "name": "stdout",
     "output_type": "stream",
     "text": [
      "['salman', 'rahul', 'vijay', 'shivam', 'vikky', 'suraj']\n"
     ]
    }
   ],
   "source": [
    "list=[\"salman\",\"rahul\",\"vijay\",\"shivam\",\"vikky\"]\n",
    "list.append(\"suraj\")\n",
    "print(list)"
   ]
  },
  {
   "cell_type": "code",
   "execution_count": 127,
   "metadata": {},
   "outputs": [
    {
     "name": "stdout",
     "output_type": "stream",
     "text": [
      "['vivek', 'salman', 'rahul', 'vijay', 'shivam', 'vikky']\n"
     ]
    }
   ],
   "source": [
    "list=[\"salman\",\"rahul\",\"vijay\",\"shivam\",\"vikky\"]\n",
    "list.insert(0,\"vivek\")\n",
    "print(list)"
   ]
  },
  {
   "cell_type": "code",
   "execution_count": 128,
   "metadata": {},
   "outputs": [
    {
     "name": "stdout",
     "output_type": "stream",
     "text": [
      "['vivek', 'salman', 'rahul', 'shivam', 'vikky']\n"
     ]
    }
   ],
   "source": [
    "list.remove(\"vijay\")\n",
    "print(list)"
   ]
  },
  {
   "cell_type": "code",
   "execution_count": 129,
   "metadata": {},
   "outputs": [
    {
     "name": "stdout",
     "output_type": "stream",
     "text": [
      "['vivek', 'rahul', 'shivam', 'vikky']\n"
     ]
    }
   ],
   "source": [
    "list.pop(1)\n",
    "print(list)"
   ]
  },
  {
   "cell_type": "code",
   "execution_count": 130,
   "metadata": {},
   "outputs": [
    {
     "name": "stdout",
     "output_type": "stream",
     "text": [
      "[]\n"
     ]
    }
   ],
   "source": [
    "list.clear()\n",
    "print(list)"
   ]
  },
  {
   "cell_type": "code",
   "execution_count": 131,
   "metadata": {},
   "outputs": [
    {
     "name": "stdout",
     "output_type": "stream",
     "text": [
      "['vikky', 'shivam', 'vijay', 'rahul', 'salman']\n"
     ]
    }
   ],
   "source": [
    "list=[\"salman\",\"rahul\",\"vijay\",\"shivam\",\"vikky\"]\n",
    "list.reverse()\n",
    "print(list)"
   ]
  },
  {
   "cell_type": "code",
   "execution_count": 132,
   "metadata": {},
   "outputs": [
    {
     "name": "stdout",
     "output_type": "stream",
     "text": [
      "['rahul', 'salman', 'shivam', 'vijay', 'vikky']\n"
     ]
    }
   ],
   "source": [
    "list.sort()\n",
    "print(list)"
   ]
  },
  {
   "cell_type": "code",
   "execution_count": null,
   "metadata": {},
   "outputs": [],
   "source": []
  }
 ],
 "metadata": {
  "kernelspec": {
   "display_name": "Python 3",
   "language": "python",
   "name": "python3"
  },
  "language_info": {
   "codemirror_mode": {
    "name": "ipython",
    "version": 3
   },
   "file_extension": ".py",
   "mimetype": "text/x-python",
   "name": "python",
   "nbconvert_exporter": "python",
   "pygments_lexer": "ipython3",
   "version": "3.12.0"
  }
 },
 "nbformat": 4,
 "nbformat_minor": 2
}
