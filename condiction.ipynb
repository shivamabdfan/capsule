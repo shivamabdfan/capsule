{
 "cells": [
  {
   "cell_type": "markdown",
   "metadata": {},
   "source": [
    "#### condition statement\n",
    "-if\n",
    "-if eles\n",
    "-elif\n",
    "-nested if\n",
    "\n"
   ]
  },
  {
   "cell_type": "code",
   "execution_count": 1,
   "metadata": {},
   "outputs": [
    {
     "name": "stdout",
     "output_type": "stream",
     "text": [
      "a is less than b\n",
      "a is less than c\n"
     ]
    }
   ],
   "source": [
    "a=5\n",
    "b=15\n",
    "c=10\n",
    "if a>b:\n",
    "    print('a is greater than b')\n",
    "if a<b:\n",
    "    print('a is less than b')\n",
    "if a>c:\n",
    "    print('a is greater than c')\n",
    "if a<c:\n",
    "    print('a is less than c')"
   ]
  },
  {
   "cell_type": "code",
   "execution_count": 2,
   "metadata": {},
   "outputs": [
    {
     "name": "stdout",
     "output_type": "stream",
     "text": [
      "number is invalid\n"
     ]
    }
   ],
   "source": [
    "a=5\n",
    "b=15\n",
    "c=10\n",
    "if a>b:\n",
    "    print('a is greater than b')\n",
    "elif a>b:\n",
    "    print('a is less than b')\n",
    "elif a>c:\n",
    "    print('a is greater than c')\n",
    "elif a>c:\n",
    "    print('a is less than c')\n",
    "else:\n",
    "    print('number is invalid')"
   ]
  },
  {
   "cell_type": "code",
   "execution_count": 3,
   "metadata": {},
   "outputs": [
    {
     "name": "stdout",
     "output_type": "stream",
     "text": [
      "number is odd\n"
     ]
    }
   ],
   "source": [
    "a=int(input('enter the number'))\n",
    "if a%2==0:\n",
    "    print('number is odd')\n",
    "else:\n",
    "    print('number is odd')"
   ]
  },
  {
   "cell_type": "code",
   "execution_count": null,
   "metadata": {},
   "outputs": [],
   "source": []
  }
 ],
 "metadata": {
  "kernelspec": {
   "display_name": "Python 3",
   "language": "python",
   "name": "python3"
  },
  "language_info": {
   "codemirror_mode": {
    "name": "ipython",
    "version": 3
   },
   "file_extension": ".py",
   "mimetype": "text/x-python",
   "name": "python",
   "nbconvert_exporter": "python",
   "pygments_lexer": "ipython3",
   "version": "3.12.0"
  }
 },
 "nbformat": 4,
 "nbformat_minor": 2
}
