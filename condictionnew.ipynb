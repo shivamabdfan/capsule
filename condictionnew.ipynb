{
 "cells": [
  {
   "cell_type": "code",
   "execution_count": 9,
   "metadata": {},
   "outputs": [
    {
     "name": "stdout",
     "output_type": "stream",
     "text": [
      "You are not eligible to vote \n"
     ]
    }
   ],
   "source": [
    "age = int(input(\"Enter your age\"))\n",
    "if age >= 18:\n",
    "    print(\"You are eligible to vote\")\n",
    "else:\n",
    "    print(\"You are not eligible to vote \")\n"
   ]
  },
  {
   "cell_type": "code",
   "execution_count": 6,
   "metadata": {},
   "outputs": [
    {
     "name": "stdout",
     "output_type": "stream",
     "text": [
      "The number is positive.\n"
     ]
    }
   ],
   "source": [
    "number = float(input(\"Enter a number:\"))\n",
    "if number > 0:\n",
    "    print(\"The number is positive.\")\n",
    "elif number == 0:\n",
    "    print(\"The number is zero.\")\n",
    "else:\n",
    "    print(\"The number is not positive\")\n"
   ]
  },
  {
   "cell_type": "code",
   "execution_count": 51,
   "metadata": {},
   "outputs": [
    {
     "name": "stdout",
     "output_type": "stream",
     "text": [
      "It is possible to make a triangle with these side\n"
     ]
    }
   ],
   "source": [
    "side1 = 5\n",
    "side2 = 12\n",
    "side3 = 13\n",
    "if side1 + side2 > side3 and side2 + side3 > side1 and side1 + side3 > side2:\n",
    "    print(\"It is possible to make a triangle with these side\")\n",
    "else:\n",
    "    print(\"It is not possible to make a triangle with these side \")\n",
    "\n"
   ]
  },
  {
   "cell_type": "code",
   "execution_count": 13,
   "metadata": {},
   "outputs": [
    {
     "name": "stdout",
     "output_type": "stream",
     "text": [
      "It is an isosceles triangle.\n"
     ]
    }
   ],
   "source": [
    "side1 = 6\n",
    "side2 = 10\n",
    "side3 = 10\n",
    "if side1 == side2 == side3:\n",
    "    print(\"It is an equilateral triangle.\")\n",
    "elif side1 == side2 or side2 == side3 or side1 == side3:\n",
    "    print(\"It is an isosceles triangle.\")\n",
    "else:\n",
    "    print(\"It is neither an equilateral nor an isosceles triangle.\")\n"
   ]
  },
  {
   "cell_type": "code",
   "execution_count": 20,
   "metadata": {},
   "outputs": [
    {
     "name": "stdout",
     "output_type": "stream",
     "text": [
      "year is not a leap year.\n"
     ]
    }
   ],
   "source": [
    "year = 2021\n",
    "if (year % 4 == 0):\n",
    "    print(\"year is a leap year.\")\n",
    "else:\n",
    "    print(\"year is not a leap year.\")\n"
   ]
  },
  {
   "cell_type": "code",
   "execution_count": 3,
   "metadata": {},
   "outputs": [
    {
     "name": "stdout",
     "output_type": "stream",
     "text": [
      "B\n"
     ]
    }
   ],
   "source": [
    "percentage = 76\n",
    "if percentage > 90:\n",
    "    grade = \"A\"\n",
    "elif percentage > 75:\n",
    "    grade = \"B\"\n",
    "elif percentage > 65:\n",
    "    grade = \"C\"\n",
    "elif percentage > 55:\n",
    "    grade = \"D\"\n",
    "elif percentage > 45:\n",
    "    grade = \"E\"\n",
    "else:\n",
    "    grade = \"F\"\n",
    "print(grade)"
   ]
  },
  {
   "cell_type": "code",
   "execution_count": 50,
   "metadata": {},
   "outputs": [
    {
     "name": "stdout",
     "output_type": "stream",
     "text": [
      "Zomato is in the list of mobile apps.\n"
     ]
    }
   ],
   "source": [
    "mobile_apps = [\"WhatsApp\", \"Facebook\", \"Instagram\", \"Zomato\", \"Tinder\"]\n",
    "if \"Zomato\" in mobile_apps:\n",
    "    print(\"Zomato is in the list of mobile apps.\")\n",
    "else:\n",
    "    print(\"Zomato is not in the list of mobile apps.\")\n"
   ]
  },
  {
   "cell_type": "code",
   "execution_count": 7,
   "metadata": {},
   "outputs": [
    {
     "name": "stdout",
     "output_type": "stream",
     "text": [
      "you dont have id\n"
     ]
    }
   ],
   "source": [
    "age=17\n",
    "id= True\n",
    "if age>=18:\n",
    "    if id:\n",
    "         print (\"you can enter to the cafe\")\n",
    "    else:\n",
    "        print(\"you cannot enter to the cafe\")\n",
    "else:\n",
    "    print(\"you dont have id\")\n"
   ]
  },
  {
   "cell_type": "code",
   "execution_count": 8,
   "metadata": {},
   "outputs": [
    {
     "name": "stdout",
     "output_type": "stream",
     "text": [
      "x is nit greater than 5\n"
     ]
    }
   ],
   "source": [
    "x=4\n",
    "y=5\n",
    "if x>5:\n",
    "    if y>2:\n",
    "        print(\"both x and y are greater than 5 and 2, respectively\")\n",
    "    else:\n",
    "        print(\"x is greater than 5 but y is less than 2\")\n",
    "else:\n",
    "    print(\"x is nit greater than 5\")"
   ]
  },
  {
   "cell_type": "code",
   "execution_count": 9,
   "metadata": {},
   "outputs": [],
   "source": [
    "username=input(\"enter the username\")\n",
    "email=input(\"enter the email\")\n",
    "pwd=input(\"enter the password\")\n",
    "pwd2=input(\"enter the password again\")\n",
    "if len(username)>=4 and len(username)<=15:\n",
    "    if '@' in email and len(email)>10:\n",
    "        if pwd==pwd2:\n",
    "            print(\"account created successfully🎉🎉🎉\")\n",
    "        else:\n",
    "            print(\"pasword doesn't match😒😒\")\n",
    "    else:\n",
    "        print(\"invalid email😣😣\")\n",
    "else:\n",
    "    print(\"invalied username🥹🥹🥹\")\n"
   ]
  },
  {
   "cell_type": "code",
   "execution_count": null,
   "metadata": {},
   "outputs": [],
   "source": []
  }
 ],
 "metadata": {
  "kernelspec": {
   "display_name": "Python 3",
   "language": "python",
   "name": "python3"
  },
  "language_info": {
   "codemirror_mode": {
    "name": "ipython",
    "version": 3
   },
   "file_extension": ".py",
   "mimetype": "text/x-python",
   "name": "python",
   "nbconvert_exporter": "python",
   "pygments_lexer": "ipython3",
   "version": "3.12.0"
  }
 },
 "nbformat": 4,
 "nbformat_minor": 2
}
